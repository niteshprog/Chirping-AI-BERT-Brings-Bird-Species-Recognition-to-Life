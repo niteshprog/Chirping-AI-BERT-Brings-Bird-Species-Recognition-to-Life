{
 "cells": [
  {
   "cell_type": "code",
   "execution_count": 1,
   "id": "053fabbf",
   "metadata": {},
   "outputs": [
    {
     "name": "stdout",
     "output_type": "stream",
     "text": [
      "Collecting opendatasets\n",
      "  Downloading opendatasets-0.1.22-py3-none-any.whl (15 kB)\n",
      "Requirement already satisfied: tqdm in c:\\users\\nites\\appdata\\local\\programs\\python\\python37\\lib\\site-packages (from opendatasets) (4.65.0)\n",
      "Requirement already satisfied: click in c:\\users\\nites\\appdata\\local\\programs\\python\\python37\\lib\\site-packages (from opendatasets) (8.1.3)\n",
      "Collecting kaggle\n",
      "  Downloading kaggle-1.5.13.tar.gz (63 kB)\n",
      "     -------------------------------------- 63.3/63.3 kB 842.8 kB/s eta 0:00:00\n",
      "  Preparing metadata (setup.py): started\n",
      "  Preparing metadata (setup.py): finished with status 'done'\n",
      "Requirement already satisfied: importlib-metadata in c:\\users\\nites\\appdata\\local\\programs\\python\\python37\\lib\\site-packages (from click->opendatasets) (6.0.0)\n",
      "Requirement already satisfied: colorama in c:\\users\\nites\\appdata\\local\\programs\\python\\python37\\lib\\site-packages (from click->opendatasets) (0.4.6)\n",
      "Requirement already satisfied: six>=1.10 in c:\\users\\nites\\appdata\\local\\programs\\python\\python37\\lib\\site-packages (from kaggle->opendatasets) (1.16.0)\n",
      "Requirement already satisfied: certifi in c:\\users\\nites\\appdata\\local\\programs\\python\\python37\\lib\\site-packages (from kaggle->opendatasets) (2022.12.7)\n",
      "Requirement already satisfied: python-dateutil in c:\\users\\nites\\appdata\\local\\programs\\python\\python37\\lib\\site-packages (from kaggle->opendatasets) (2.8.2)\n",
      "Requirement already satisfied: requests in c:\\users\\nites\\appdata\\local\\programs\\python\\python37\\lib\\site-packages (from kaggle->opendatasets) (2.28.2)\n",
      "Collecting python-slugify\n",
      "  Downloading python_slugify-8.0.1-py2.py3-none-any.whl (9.7 kB)\n",
      "Requirement already satisfied: urllib3 in c:\\users\\nites\\appdata\\local\\programs\\python\\python37\\lib\\site-packages (from kaggle->opendatasets) (1.26.15)\n",
      "Requirement already satisfied: typing-extensions>=3.6.4 in c:\\users\\nites\\appdata\\local\\programs\\python\\python37\\lib\\site-packages (from importlib-metadata->click->opendatasets) (4.5.0)\n",
      "Requirement already satisfied: zipp>=0.5 in c:\\users\\nites\\appdata\\local\\programs\\python\\python37\\lib\\site-packages (from importlib-metadata->click->opendatasets) (3.15.0)\n",
      "Collecting text-unidecode>=1.3\n",
      "  Downloading text_unidecode-1.3-py2.py3-none-any.whl (78 kB)\n",
      "     ---------------------------------------- 78.2/78.2 kB 4.5 MB/s eta 0:00:00\n",
      "Requirement already satisfied: charset-normalizer<4,>=2 in c:\\users\\nites\\appdata\\local\\programs\\python\\python37\\lib\\site-packages (from requests->kaggle->opendatasets) (3.1.0)\n",
      "Requirement already satisfied: idna<4,>=2.5 in c:\\users\\nites\\appdata\\local\\programs\\python\\python37\\lib\\site-packages (from requests->kaggle->opendatasets) (3.4)\n",
      "Building wheels for collected packages: kaggle\n",
      "  Building wheel for kaggle (setup.py): started\n",
      "  Building wheel for kaggle (setup.py): finished with status 'done'\n",
      "  Created wheel for kaggle: filename=kaggle-1.5.13-py3-none-any.whl size=77729 sha256=07e607391c8e5e70395494643aa20dc0ab5c5f1d448fbf121898689620794404\n",
      "  Stored in directory: c:\\users\\nites\\appdata\\local\\pip\\cache\\wheels\\fd\\97\\a6\\3372cb23468915cbcf108338dd29c73379fd1a55828ec608ba\n",
      "Successfully built kaggle\n",
      "Installing collected packages: text-unidecode, python-slugify, kaggle, opendatasets\n",
      "Successfully installed kaggle-1.5.13 opendatasets-0.1.22 python-slugify-8.0.1 text-unidecode-1.3\n"
     ]
    }
   ],
   "source": [
    "!pip install opendatasets"
   ]
  },
  {
   "cell_type": "code",
   "execution_count": 1,
   "id": "89f6d6ab",
   "metadata": {},
   "outputs": [],
   "source": [
    "import librosa \n",
    "import opendatasets as od\n",
    "import pandas as pd\n",
    "import os\n",
    "import requests"
   ]
  },
  {
   "cell_type": "code",
   "execution_count": 16,
   "id": "c1547df4",
   "metadata": {},
   "outputs": [
    {
     "name": "stdout",
     "output_type": "stream",
     "text": [
      "Skipping, found downloaded files in \".\\birds-audio\" (use force=True to force download)\n"
     ]
    }
   ],
   "source": [
    "od.download(\"https://www.kaggle.com/datasets/niteshprog/birds-audio\")"
   ]
  },
  {
   "cell_type": "code",
   "execution_count": 2,
   "id": "e25ac65a",
   "metadata": {},
   "outputs": [],
   "source": [
    "data = pd.read_csv(\"I:/Chirping AI-BERT Brings Bird Species Recognition to LIfe/birds-audio/audio_list.csv\")"
   ]
  },
  {
   "cell_type": "code",
   "execution_count": 3,
   "id": "ab87d384",
   "metadata": {
    "scrolled": true
   },
   "outputs": [
    {
     "data": {
      "text/html": [
       "<div>\n",
       "<style scoped>\n",
       "    .dataframe tbody tr th:only-of-type {\n",
       "        vertical-align: middle;\n",
       "    }\n",
       "\n",
       "    .dataframe tbody tr th {\n",
       "        vertical-align: top;\n",
       "    }\n",
       "\n",
       "    .dataframe thead th {\n",
       "        text-align: right;\n",
       "    }\n",
       "</style>\n",
       "<table border=\"1\" class=\"dataframe\">\n",
       "  <thead>\n",
       "    <tr style=\"text-align: right;\">\n",
       "      <th></th>\n",
       "      <th>id</th>\n",
       "      <th>gen</th>\n",
       "      <th>sp</th>\n",
       "      <th>ssp</th>\n",
       "      <th>en</th>\n",
       "      <th>cnt</th>\n",
       "      <th>loc</th>\n",
       "      <th>lat</th>\n",
       "      <th>lng</th>\n",
       "      <th>url</th>\n",
       "      <th>file</th>\n",
       "      <th>file-name</th>\n",
       "    </tr>\n",
       "  </thead>\n",
       "  <tbody>\n",
       "    <tr>\n",
       "      <th>0</th>\n",
       "      <td>516153</td>\n",
       "      <td>Struthio</td>\n",
       "      <td>camelus</td>\n",
       "      <td>australis</td>\n",
       "      <td>Common Ostrich</td>\n",
       "      <td>South Africa</td>\n",
       "      <td>Polokwane Game Reserve, Polokwane, Limpopo</td>\n",
       "      <td>-23.9513</td>\n",
       "      <td>29.4735</td>\n",
       "      <td>//xeno-canto.org/516153</td>\n",
       "      <td>https://xeno-canto.org/516153/download</td>\n",
       "      <td>XC516153-Struthio_camelus_australis-FL quiet c...</td>\n",
       "    </tr>\n",
       "    <tr>\n",
       "      <th>1</th>\n",
       "      <td>208209</td>\n",
       "      <td>Struthio</td>\n",
       "      <td>camelus</td>\n",
       "      <td>NaN</td>\n",
       "      <td>Common Ostrich</td>\n",
       "      <td>South Africa</td>\n",
       "      <td>Mmabolela Reserve, Limpopo</td>\n",
       "      <td>-22.6770</td>\n",
       "      <td>28.2629</td>\n",
       "      <td>//xeno-canto.org/208209</td>\n",
       "      <td>https://xeno-canto.org/208209/download</td>\n",
       "      <td>XC208209-Common Ostrich 2.mp3</td>\n",
       "    </tr>\n",
       "    <tr>\n",
       "      <th>2</th>\n",
       "      <td>208128</td>\n",
       "      <td>Struthio</td>\n",
       "      <td>camelus</td>\n",
       "      <td>NaN</td>\n",
       "      <td>Common Ostrich</td>\n",
       "      <td>South Africa</td>\n",
       "      <td>Mmabolela Reserve, Limpopo</td>\n",
       "      <td>-22.6085</td>\n",
       "      <td>28.2996</td>\n",
       "      <td>//xeno-canto.org/208128</td>\n",
       "      <td>https://xeno-canto.org/208128/download</td>\n",
       "      <td>XC208128-Common Ostrich.mp3</td>\n",
       "    </tr>\n",
       "    <tr>\n",
       "      <th>3</th>\n",
       "      <td>46725</td>\n",
       "      <td>Struthio</td>\n",
       "      <td>camelus</td>\n",
       "      <td>NaN</td>\n",
       "      <td>Common Ostrich</td>\n",
       "      <td>South Africa</td>\n",
       "      <td>Hoedspruit</td>\n",
       "      <td>-24.3834</td>\n",
       "      <td>30.9334</td>\n",
       "      <td>//xeno-canto.org/46725</td>\n",
       "      <td>https://xeno-canto.org/46725/download</td>\n",
       "      <td>Ostrich RV 2-10.mp3</td>\n",
       "    </tr>\n",
       "    <tr>\n",
       "      <th>4</th>\n",
       "      <td>675445</td>\n",
       "      <td>Struthio</td>\n",
       "      <td>camelus</td>\n",
       "      <td>NaN</td>\n",
       "      <td>Common Ostrich</td>\n",
       "      <td>Japan</td>\n",
       "      <td>Morioka Zoological Park ZOOMO, Morioka City, I...</td>\n",
       "      <td>39.6970</td>\n",
       "      <td>141.1912</td>\n",
       "      <td>//xeno-canto.org/675445</td>\n",
       "      <td>https://xeno-canto.org/675445/download</td>\n",
       "      <td>XC675445-ostrich_egg_laying_sub.mp3</td>\n",
       "    </tr>\n",
       "  </tbody>\n",
       "</table>\n",
       "</div>"
      ],
      "text/plain": [
       "       id       gen       sp        ssp              en           cnt  \\\n",
       "0  516153  Struthio  camelus  australis  Common Ostrich  South Africa   \n",
       "1  208209  Struthio  camelus        NaN  Common Ostrich  South Africa   \n",
       "2  208128  Struthio  camelus        NaN  Common Ostrich  South Africa   \n",
       "3   46725  Struthio  camelus        NaN  Common Ostrich  South Africa   \n",
       "4  675445  Struthio  camelus        NaN  Common Ostrich         Japan   \n",
       "\n",
       "                                                 loc      lat       lng  \\\n",
       "0         Polokwane Game Reserve, Polokwane, Limpopo -23.9513   29.4735   \n",
       "1                         Mmabolela Reserve, Limpopo -22.6770   28.2629   \n",
       "2                         Mmabolela Reserve, Limpopo -22.6085   28.2996   \n",
       "3                                         Hoedspruit -24.3834   30.9334   \n",
       "4  Morioka Zoological Park ZOOMO, Morioka City, I...  39.6970  141.1912   \n",
       "\n",
       "                       url                                    file  \\\n",
       "0  //xeno-canto.org/516153  https://xeno-canto.org/516153/download   \n",
       "1  //xeno-canto.org/208209  https://xeno-canto.org/208209/download   \n",
       "2  //xeno-canto.org/208128  https://xeno-canto.org/208128/download   \n",
       "3   //xeno-canto.org/46725   https://xeno-canto.org/46725/download   \n",
       "4  //xeno-canto.org/675445  https://xeno-canto.org/675445/download   \n",
       "\n",
       "                                           file-name  \n",
       "0  XC516153-Struthio_camelus_australis-FL quiet c...  \n",
       "1                      XC208209-Common Ostrich 2.mp3  \n",
       "2                        XC208128-Common Ostrich.mp3  \n",
       "3                                Ostrich RV 2-10.mp3  \n",
       "4                XC675445-ostrich_egg_laying_sub.mp3  "
      ]
     },
     "execution_count": 3,
     "metadata": {},
     "output_type": "execute_result"
    }
   ],
   "source": [
    "data.head()"
   ]
  },
  {
   "cell_type": "code",
   "execution_count": 4,
   "id": "a84830e6",
   "metadata": {},
   "outputs": [],
   "source": [
    "#defining method to download files\n",
    "def download_file(url, folder):\n",
    "    local_filename = url.split('/')[-2]+'.mp3'\n",
    "    filepath = os.path.join(folder, local_filename)\n",
    "    with requests.get(url, stream=True) as r:\n",
    "        r.raise_for_status()\n",
    "        with open(filepath, 'wb') as f:\n",
    "            for chunk in r.iter_content(chunk_size=8192):\n",
    "                f.write(chunk)\n",
    "    return filepath"
   ]
  },
  {
   "cell_type": "code",
   "execution_count": null,
   "id": "f7ff43e4",
   "metadata": {},
   "outputs": [],
   "source": [
    "#iterating and downloading audios one by one\n",
    "for i in range(len(data['file'])):\n",
    "    dir = str(i)\n",
    "    parent = \"downloads\"\n",
    "    path =  os.path.join(parent, dir)\n",
    "    if not os.path.exists(path):\n",
    "        os.makedirs(path)\n",
    "    download_file(data['file'][i], path)"
   ]
  },
  {
   "cell_type": "code",
   "execution_count": null,
   "id": "2b2dbaba",
   "metadata": {},
   "outputs": [],
   "source": []
  }
 ],
 "metadata": {
  "kernelspec": {
   "display_name": "Python 3 (ipykernel)",
   "language": "python",
   "name": "python3"
  },
  "language_info": {
   "codemirror_mode": {
    "name": "ipython",
    "version": 3
   },
   "file_extension": ".py",
   "mimetype": "text/x-python",
   "name": "python",
   "nbconvert_exporter": "python",
   "pygments_lexer": "ipython3",
   "version": "3.7.0"
  }
 },
 "nbformat": 4,
 "nbformat_minor": 5
}
