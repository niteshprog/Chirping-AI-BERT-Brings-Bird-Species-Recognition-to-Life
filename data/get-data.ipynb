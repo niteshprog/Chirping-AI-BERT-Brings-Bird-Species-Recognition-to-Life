{
 "cells": [
  {
   "cell_type": "code",
   "execution_count": null,
   "id": "cf0c3ebb",
   "metadata": {},
   "outputs": [],
   "source": [
    "import pandas as pd\n",
    "import requests\n",
    "import os"
   ]
  },
  {
   "cell_type": "code",
   "execution_count": null,
   "id": "b6135cdf",
   "metadata": {},
   "outputs": [],
   "source": [
    "df = pd.DataFrame()"
   ]
  },
  {
   "cell_type": "code",
   "execution_count": null,
   "id": "67ea9edc",
   "metadata": {},
   "outputs": [],
   "source": [
    "for i in range(1, 16):\n",
    "    response = requests.get('https://xeno-canto.org/api/2/recordings?query=grp:birds&page ={i}', verify = False )\n",
    "    df = pd.concat([df, pd.concat([df, pd.DataFrame(response.json()['recordings'])[['id', 'gen', 'sp', 'ssp', 'en', 'cnt','loc', 'lat', 'lng', 'url', 'file', 'file-name']]])])"
   ]
  },
  {
   "cell_type": "code",
   "execution_count": null,
   "id": "109cf2c7",
   "metadata": {},
   "outputs": [],
   "source": [
    "df.to_csv(\"audio_list.csv\", index = False)"
   ]
  },
  {
   "cell_type": "code",
   "execution_count": null,
   "id": "4d8158bf",
   "metadata": {},
   "outputs": [],
   "source": [
    "#defining method to download files\n",
    "def download_file(url, folder):\n",
    "    local_filename = url.split('/')[-2]+'.mp3'\n",
    "    filepath = os.path.join(folder, local_filename)\n",
    "    with requests.get(url, stream=True) as r:\n",
    "        r.raise_for_status()\n",
    "        with open(filepath, 'wb') as f:\n",
    "            for chunk in r.iter_content(chunk_size=8192):\n",
    "                f.write(chunk)\n",
    "    return filepath"
   ]
  },
  {
   "cell_type": "code",
   "execution_count": null,
   "id": "cae459b1",
   "metadata": {},
   "outputs": [],
   "source": [
    "#iterating and downloading audios one by one\n",
    "for i in range(len(df['file'])):\n",
    "    dir = str(i)\n",
    "    parent = \"downloads\"\n",
    "    path =  os.path.join(parent, dir)\n",
    "    if not os.path.exists(path):\n",
    "        os.makedirs(path)\n",
    "    download_file(df['file'][i], path)"
   ]
  }
 ],
 "metadata": {
  "kernelspec": {
   "display_name": "Python 3 (ipykernel)",
   "language": "python",
   "name": "python3"
  },
  "language_info": {
   "codemirror_mode": {
    "name": "ipython",
    "version": 3
   },
   "file_extension": ".py",
   "mimetype": "text/x-python",
   "name": "python",
   "nbconvert_exporter": "python",
   "pygments_lexer": "ipython3",
   "version": "3.7.0"
  }
 },
 "nbformat": 4,
 "nbformat_minor": 5
}
